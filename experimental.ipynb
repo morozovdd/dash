{
 "cells": [
  {
   "cell_type": "code",
   "execution_count": null,
   "metadata": {},
   "outputs": [],
   "source": [
    "from garminconnect import (\n",
    "    Garmin,\n",
    "    GarminConnectConnectionError,\n",
    "    GarminConnectTooManyRequestsError,\n",
    "    GarminConnectAuthenticationError,\n",
    ")\n",
    "import logging\n",
    "import time\n",
    "import os\n",
    "\n",
    "logging.basicConfig(level=logging.DEBUG)\n",
    "\n",
    "email = os.getenv('GARMIN_EMAIL')\n",
    "password = os.getenv('GARMIN_PASSWORD')\n",
    "\n",
    "MAX_RETRIES = 3\n",
    "RETRY_DELAY = 60  # seconds\n",
    "\n",
    "def connect_with_retry():\n",
    "    for attempt in range(MAX_RETRIES):\n",
    "        try:\n",
    "            client = Garmin(email, password)\n",
    "            client.login()\n",
    "            return client\n",
    "            \n",
    "        except GarminConnectTooManyRequestsError:\n",
    "            if attempt < MAX_RETRIES - 1:\n",
    "                print(f\"Rate limited. Waiting {RETRY_DELAY} seconds before retry...\")\n",
    "                time.sleep(RETRY_DELAY)\n",
    "                continue\n",
    "            raise\n",
    "            \n",
    "        except (GarminConnectAuthenticationError, GarminConnectConnectionError) as err:\n",
    "            print(f\"Error during attempt {attempt + 1}: {err}\")\n",
    "            raise\n",
    "\n",
    "try:\n",
    "    client = connect_with_retry()\n",
    "    print(\"Successfully connected to Garmin!\")\n",
    "    \n",
    "    # Test the connection with a basic API call\n",
    "    activities = client.get_activities(0, 1)\n",
    "    if activities:\n",
    "        print(f\"Most recent activity: {activities[0]['activityName']}\")\n",
    "\n",
    "except GarminConnectTooManyRequestsError:\n",
    "    print(\"Failed after maximum retries due to rate limiting. Please wait a few minutes before trying again.\")\n",
    "except GarminConnectAuthenticationError as err:\n",
    "    print(f\"Authentication error: {err}\")\n",
    "except GarminConnectConnectionError as err:\n",
    "    print(f\"Connection error: {err}\")\n",
    "except Exception as err:\n",
    "    print(f\"Unknown error occurred: {err}\")\n",
    "    print(f\"Error type: {type(err)}\")\n",
    "    import traceback\n",
    "    traceback.print_exc()"
   ]
  }
 ],
 "metadata": {
  "kernelspec": {
   "display_name": "venv",
   "language": "python",
   "name": "python3"
  },
  "language_info": {
   "codemirror_mode": {
    "name": "ipython",
    "version": 3
   },
   "file_extension": ".py",
   "mimetype": "text/x-python",
   "name": "python",
   "nbconvert_exporter": "python",
   "pygments_lexer": "ipython3",
   "version": "3.12.3"
  }
 },
 "nbformat": 4,
 "nbformat_minor": 2
}
